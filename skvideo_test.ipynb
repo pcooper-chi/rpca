{
 "cells": [
  {
   "cell_type": "code",
   "execution_count": 39,
   "id": "f87f3f1b-1e50-4850-b95e-c299b582f08a",
   "metadata": {},
   "outputs": [],
   "source": [
    "import numpy as np\n",
    "import matplotlib.pyplot as plt\n",
    "import skvideo.io\n",
    "import skvideo.utils\n",
    "\n",
    "from RPCA import RPCA, RPCA_partial"
   ]
  },
  {
   "cell_type": "code",
   "execution_count": 2,
   "id": "063636a8-e8f0-4e06-8c05-fb7434fed424",
   "metadata": {},
   "outputs": [
    {
     "name": "stdout",
     "output_type": "stream",
     "text": [
      "Shape of video data: (1499, 480, 640, 3)\n"
     ]
    }
   ],
   "source": [
    "video = skvideo.io.vread('111.mp4')\n",
    "n_frames = video.shape[0]\n",
    "height = video.shape[1]\n",
    "width = video.shape[2]\n",
    "print(\"Shape of video data:\", video.shape)"
   ]
  },
  {
   "cell_type": "code",
   "execution_count": 22,
   "id": "4dace12b-78e4-4c9e-b352-1c32aa5df659",
   "metadata": {},
   "outputs": [],
   "source": [
    "video_clipped = video[800:1040]\n",
    "\n",
    "skvideo.io.vwrite('111_clipped.mp4', video_clipped, outputdict={'-pix_fmt':'yuv420p'})"
   ]
  },
  {
   "cell_type": "code",
   "execution_count": 23,
   "id": "ef778d34-eb30-46e7-aff9-7f4c333591af",
   "metadata": {},
   "outputs": [
    {
     "data": {
      "text/plain": [
       "(240, 921600)"
      ]
     },
     "execution_count": 23,
     "metadata": {},
     "output_type": "execute_result"
    }
   ],
   "source": [
    "vc_shape = video_clipped.shape\n",
    "vc_shape\n",
    "\n",
    "video_clipped.reshape((vc_shape[0], vc_shape[1]*vc_shape[2]*vc_shape[3])).shape"
   ]
  },
  {
   "cell_type": "code",
   "execution_count": 24,
   "id": "55ad47f0-08a5-4f98-80c6-4301a6372c35",
   "metadata": {},
   "outputs": [],
   "source": [
    "video_clipped_vectors = video_clipped.reshape((vc_shape[0], vc_shape[1]*vc_shape[2]*vc_shape[3]))"
   ]
  },
  {
   "cell_type": "code",
   "execution_count": 25,
   "id": "7aea196a-f57b-4c3c-83fd-58f15952e410",
   "metadata": {},
   "outputs": [],
   "source": [
    "# %%timeit\n",
    "\n",
    "X = video_clipped_vectors\n",
    "L, S = RPCA_partial(X, rank=20, n_iter=100)"
   ]
  },
  {
   "cell_type": "code",
   "execution_count": 26,
   "id": "bfeb954c-ced4-449c-b3be-0cc8f0dcbe50",
   "metadata": {},
   "outputs": [],
   "source": [
    "skvideo.io.vwrite('111_clipped_L.mp4', L.reshape(vc_shape), outputdict={'-pix_fmt':'yuv420p'})\n",
    "skvideo.io.vwrite('111_clipped_S.mp4', S.reshape(vc_shape), outputdict={'-pix_fmt':'yuv420p'})"
   ]
  },
  {
   "cell_type": "code",
   "execution_count": 28,
   "id": "4e4ca855-ae54-4fa9-a3db-00da672a3f6c",
   "metadata": {},
   "outputs": [],
   "source": [
    "video_gt = skvideo.io.vread('111_gt.mp4')\n",
    "video_gt_clipped = video_gt[800:1040]\n",
    "skvideo.io.vwrite('111_gt_clipped.mp4', video_gt_clipped, outputdict={'-pix_fmt':'yuv420p'})"
   ]
  },
  {
   "cell_type": "code",
   "execution_count": 42,
   "id": "64ebe7e0-7c66-4a5e-9b90-dcfb19bc6f9d",
   "metadata": {
    "tags": []
   },
   "outputs": [],
   "source": [
    "S_mult_gs = skvideo.utils.rgb2gray(S.reshape(vc_shape))*10\n",
    "\n",
    "skvideo.io.vwrite('111_clipped_S_mult_gs.mp4', S_mult, outputdict={'-pix_fmt':'yuv420p'})"
   ]
  },
  {
   "cell_type": "code",
   "execution_count": 43,
   "id": "ac748adf-801f-48ed-99ba-5cb84547a8c2",
   "metadata": {},
   "outputs": [],
   "source": [
    "S_mult = S.reshape(vc_shape)*10\n",
    "\n",
    "skvideo.io.vwrite('111_clipped_S_mult.mp4', S_mult, outputdict={'-pix_fmt':'yuv420p'})"
   ]
  }
 ],
 "metadata": {
  "kernelspec": {
   "display_name": "Python 3 (ipykernel)",
   "language": "python",
   "name": "python3"
  },
  "language_info": {
   "codemirror_mode": {
    "name": "ipython",
    "version": 3
   },
   "file_extension": ".py",
   "mimetype": "text/x-python",
   "name": "python",
   "nbconvert_exporter": "python",
   "pygments_lexer": "ipython3",
   "version": "3.9.12"
  }
 },
 "nbformat": 4,
 "nbformat_minor": 5
}
